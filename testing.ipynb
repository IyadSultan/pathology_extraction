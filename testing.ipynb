{
 "cells": [
  {
   "cell_type": "code",
   "execution_count": 1,
   "metadata": {},
   "outputs": [
    {
     "name": "stdout",
     "output_type": "stream",
     "text": [
      "Column names:\n",
      "['MRN', 'Document_Number', 'DOCUMENT_TYPE', 'Entry_Date', 'Visit', 'AUTHOR_DICTATOR', 'VISIT_LOCATION', 'SERVICE', 'SIGNATURE_DATE_TIME', 'SIGNED_BY', 'Parent_Number', 'Parent_Type', 'HOSPITAL_LOCATION', 'AUTHOR_ID', 'AUTHOR_SERVICE', 'Note', 'Visit_Number']\n"
     ]
    }
   ],
   "source": [
    "\n",
    "import pandas as pd\n",
    "\n",
    "# Read the CSV file\n",
    "df = pd.read_csv(r\"C:\\Users\\isult\\Dropbox\\AI\\Data\\pathology_1000_reports.csv\")\n",
    "\n",
    "# Display column names\n",
    "print(\"Column names:\")\n",
    "print(df.columns.tolist())\n"
   ]
  },
  {
   "cell_type": "code",
   "execution_count": 8,
   "metadata": {},
   "outputs": [
    {
     "name": "stdout",
     "output_type": "stream",
     "text": [
      "Input: Invasive lobular carcinoma\n",
      "Match: {'code': '8500/3', 'term': 'Invasive ductal carcinoma', 'similarity': 0.5871534547302593}\n",
      "\n",
      "Input: Left breast\n",
      "Match: {'code': 'C50.9', 'term': 'Breast NOS', 'similarity': 0.6524908845125339}\n"
     ]
    }
   ],
   "source": [
    "import pandas as pd\n",
    "from sklearn.feature_extraction.text import TfidfVectorizer\n",
    "from sklearn.metrics.pairwise import cosine_similarity\n",
    "from typing import Optional, Dict, Any\n",
    "\n",
    "class DiagnosisMapper:\n",
    "    def __init__(self, icdo_df: pd.DataFrame, topography_df: pd.DataFrame):\n",
    "        self.icdo_df = icdo_df\n",
    "        self.topography_df = topography_df\n",
    "        self.morph_vec = TfidfVectorizer(ngram_range=(1, 2))\n",
    "        self.topo_vec = TfidfVectorizer(ngram_range=(1, 2))\n",
    "        # Fit the vectorizers on the morphology and topography terms\n",
    "        self.morph_vectors = self.morph_vec.fit_transform(icdo_df['morphology'].fillna(''))\n",
    "        self.topo_vectors = self.topo_vec.fit_transform(topography_df['term'].fillna(''))\n",
    "\n",
    "    def find_closest_diagnosis(self, desc: str, threshold: float = 0.3) -> Optional[Dict[str, Any]]:\n",
    "        \"\"\"\n",
    "        Find the closest matching diagnosis in ICD-O morphology codes\n",
    "        \n",
    "        Args:\n",
    "            desc: Description to match\n",
    "            threshold: Minimum similarity score (default: 0.3)\n",
    "            \n",
    "        Returns:\n",
    "            Dictionary with matched code, term and similarity score, or None if no match above threshold\n",
    "        \"\"\"\n",
    "        if not desc:\n",
    "            return None\n",
    "        # Transform the input description\n",
    "        q = self.morph_vec.transform([desc])\n",
    "        # Calculate similarity with all terms\n",
    "        sims = cosine_similarity(q, self.morph_vectors).flatten()\n",
    "        # Get the index of highest similarity\n",
    "        idx = sims.argmax()\n",
    "        # Return None if below threshold, otherwise return match info\n",
    "        return None if sims[idx] < threshold else {\n",
    "            'code': self.icdo_df.iloc[idx]['icdo'],\n",
    "            'term': self.icdo_df.iloc[idx]['morphology'],\n",
    "            'similarity': sims[idx]\n",
    "        }\n",
    "    \n",
    "    def find_closest_topography(self, site_description: str, threshold: float = 0.3) -> Optional[Dict[str, Any]]:\n",
    "        \"\"\"\n",
    "        Find the closest matching site in ICD-O topography codes\n",
    "        \n",
    "        Args:\n",
    "            site_description: Site description to match\n",
    "            threshold: Minimum similarity score (default: 0.3)\n",
    "            \n",
    "        Returns:\n",
    "            Dictionary with matched code, term and similarity score, or None if no match above threshold\n",
    "        \"\"\"\n",
    "        if not site_description:\n",
    "            return None\n",
    "        q = self.topo_vec.transform([site_description])\n",
    "        sims = cosine_similarity(q, self.topo_vectors).flatten()\n",
    "        idx = sims.argmax()\n",
    "        return None if sims[idx] < threshold else {\n",
    "            'code': self.topography_df.iloc[idx]['ICDO3'],\n",
    "            'term': self.topography_df.iloc[idx]['term'],\n",
    "            'similarity': sims[idx]\n",
    "        }\n",
    "\n",
    "# Example usage:\n",
    "if __name__ == \"__main__\":\n",
    "    # Sample data - replace with your actual ICD-O codes\n",
    "    icdo_df = pd.DataFrame({\n",
    "        'icdo': ['8140/3', '8500/3', '8010/3'],\n",
    "        'morphology': ['Adenocarcinoma', 'Invasive ductal carcinoma', 'Carcinoma NOS']\n",
    "    })\n",
    "    \n",
    "    topography_df = pd.DataFrame({\n",
    "        'ICDO3': ['C50.9', 'C34.9', 'C18.9'],\n",
    "        'term': ['Breast NOS', 'Lung NOS', 'Colon NOS']\n",
    "    })\n",
    "    \n",
    "    # Initialize mapper\n",
    "    mapper = DiagnosisMapper(icdo_df, topography_df)\n",
    "    \n",
    "    # Test diagnosis matching\n",
    "    test_desc = \"Invasive lobular carcinoma\"\n",
    "    result = mapper.find_closest_diagnosis(test_desc)\n",
    "    print(f\"Input: {test_desc}\")\n",
    "    print(\"Match:\", result)\n",
    "    \n",
    "    # Test topography matching\n",
    "    test_site = \"Left breast\"\n",
    "    result = mapper.find_closest_topography(test_site)\n",
    "    print(f\"\\nInput: {test_site}\")\n",
    "    print(\"Match:\", result)\n",
    "\n",
    "#     Input: Invasive lobular carcinoma\n",
    "# Match: {'code': '8500/3', 'term': 'Invasive ductal carcinoma', 'similarity': 0.5871534547302593}\n",
    "\n",
    "# Input: Left breast\n",
    "# Match: {'code': 'C50.9', 'term': 'Breast NOS', 'similarity': 0.6524908845125339}"
   ]
  },
  {
   "cell_type": "code",
   "execution_count": null,
   "metadata": {},
   "outputs": [],
   "source": []
  },
  {
   "cell_type": "code",
   "execution_count": null,
   "metadata": {},
   "outputs": [],
   "source": []
  }
 ],
 "metadata": {
  "kernelspec": {
   "display_name": "python310",
   "language": "python",
   "name": "python3"
  },
  "language_info": {
   "codemirror_mode": {
    "name": "ipython",
    "version": 3
   },
   "file_extension": ".py",
   "mimetype": "text/x-python",
   "name": "python",
   "nbconvert_exporter": "python",
   "pygments_lexer": "ipython3",
   "version": "3.10.15"
  }
 },
 "nbformat": 4,
 "nbformat_minor": 2
}
